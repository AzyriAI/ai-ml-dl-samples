{
 "cells": [
  {
   "cell_type": "code",
   "execution_count": 7,
   "id": "22adef02-9295-42ef-bb4b-ef6663d9bfe8",
   "metadata": {},
   "outputs": [],
   "source": [
    "# import\n",
    "import numpy as np\n",
    "import pandas as pd\n",
    "import random\n",
    "\n",
    "import matplotlib.pyplot as plt\n",
    "\n",
    "import tensorflow as tf\n",
    "\n",
    "from tensorflow.keras.datasets import mnist\n",
    "from tensorflow.keras.models import Sequential\n",
    "from tensorflow.keras.layers import Input, Flatten, Conv2D, Dense, MaxPooling2D, Dropout\n",
    "from tensorflow.keras.optimizers import SGD\n",
    "from tensorflow.keras.utils import to_categorical"
   ]
  },
  {
   "cell_type": "code",
   "execution_count": 2,
   "id": "91acf29e-818c-41b2-974a-8b7a3cb7a558",
   "metadata": {},
   "outputs": [],
   "source": [
    "# load dataset\n",
    "# load the MNIST dataset, containing 70,000 28x28 images showing handwritten digits.\n",
    "# load this dataset using Kera\n",
    "# function returns the dataset split into train and test sets.\n",
    "\n",
    "# x_train and x_test contain our train and test images.\n",
    "# y_train and y_test contain the target values: a number between 0 and 9 indicating the digit shown in the corresponding image.\n",
    "# 60,000 images to train the model and 10,000 to test it\n",
    "(x_train, y_train), (x_test, y_test) = mnist.load_data()"
   ]
  },
  {
   "cell_type": "code",
   "execution_count": 4,
   "id": "fbaba40e-0487-4dc3-b154-86ee97c91cdb",
   "metadata": {},
   "outputs": [
    {
     "name": "stdout",
     "output_type": "stream",
     "text": [
      "(60000, 28, 28)\n",
      "(60000,)\n",
      "(10000, 28, 28)\n",
      "(10000,)\n"
     ]
    }
   ],
   "source": [
    "# print out\n",
    "print(x_train.shape)\n",
    "print(y_train.shape)\n",
    "print(x_test.shape)\n",
    "print(y_test.shape)"
   ]
  },
  {
   "cell_type": "code",
   "execution_count": 5,
   "id": "f7687ed0-c866-4629-a56e-4167d066c431",
   "metadata": {},
   "outputs": [],
   "source": [
    "# preprocess dataset\n",
    "# train data\n",
    "# Each pixel goes from 0 to 255. Neural networks work much better with smaller values.\n",
    "# Need to normalize pixels by dividing them by 255. That way, each pixel will go from 0 to 1.\n",
    "x_train = x_train.astype('float32') / 255.0\n",
    "# When dealing with images, we need a tensor with 4 dimensions: batch size, width, height, and color channels.\n",
    "# x_train/y_train are (60000, 28, 28). Need to reshape it to add the missing dimension (\"1\" because these images are grayscale.)\n",
    "x_train = x_train.reshape((x_train.shape[0], 28, 28, 1))\n",
    "# Target values go from 0 to 9 (the value of each digit.)\n",
    "# This line one-hot encodes these values.\n",
    "# For example, this will transform a value 5, in an array of zeros with a single 1 corresponding to the fifth position:\n",
    "# [0, 0, 0, 0, 0, 1, 0, 0, 0, 0]\n",
    "y_train_one_hot = to_categorical(y_train)\n",
    "\n",
    "# test data\n",
    "x_test = x_test.astype('float32') / 255.0\n",
    "x_test = x_test.reshape((x_test.shape[0], 28, 28, 1))\n",
    "y_test_one_hot = to_categorical(y_test)"
   ]
  },
  {
   "cell_type": "code",
   "execution_count": 6,
   "id": "ad37b990-1000-4072-ad13-35a6aacf9faf",
   "metadata": {},
   "outputs": [
    {
     "name": "stdout",
     "output_type": "stream",
     "text": [
      "-- train data\n",
      "(60000, 28, 28, 1)\n",
      "(60000,)\n",
      "5\n",
      "(60000, 10)\n",
      "[0. 0. 0. 0. 0. 1. 0. 0. 0. 0.]\n",
      "-- test data\n",
      "(10000, 28, 28, 1)\n",
      "(10000,)\n",
      "(10000, 10)\n"
     ]
    }
   ],
   "source": [
    "# print out data\n",
    "# print out train data\n",
    "print('-- train data')\n",
    "print(x_train.shape)\n",
    "print(y_train.shape)\n",
    "print(y_train[0])\n",
    "print(y_train_one_hot.shape)\n",
    "print(y_train_one_hot[0])\n",
    "\n",
    "# print out test data\n",
    "print('-- test data')\n",
    "print(x_test.shape)\n",
    "print(y_test.shape)\n",
    "print(y_test_one_hot.shape)"
   ]
  },
  {
   "cell_type": "code",
   "execution_count": 8,
   "id": "105088d1-1036-47bc-8491-a614249ef04f",
   "metadata": {},
   "outputs": [
    {
     "name": "stdout",
     "output_type": "stream",
     "text": [
      "Model: \"sequential\"\n",
      "_________________________________________________________________\n",
      " Layer (type)                Output Shape              Param #   \n",
      "=================================================================\n",
      " conv2d (Conv2D)             (None, 26, 26, 32)        320       \n",
      "                                                                 \n",
      " max_pooling2d (MaxPooling2  (None, 13, 13, 32)        0         \n",
      " D)                                                              \n",
      "                                                                 \n",
      " conv2d_1 (Conv2D)           (None, 11, 11, 64)        18496     \n",
      "                                                                 \n",
      " max_pooling2d_1 (MaxPoolin  (None, 5, 5, 64)          0         \n",
      " g2D)                                                            \n",
      "                                                                 \n",
      " flatten (Flatten)           (None, 1600)              0         \n",
      "                                                                 \n",
      " dropout (Dropout)           (None, 1600)              0         \n",
      "                                                                 \n",
      " dense (Dense)               (None, 10)                16010     \n",
      "                                                                 \n",
      "=================================================================\n",
      "Total params: 34826 (136.04 KB)\n",
      "Trainable params: 34826 (136.04 KB)\n",
      "Non-trainable params: 0 (0.00 Byte)\n",
      "_________________________________________________________________\n"
     ]
    },
    {
     "name": "stderr",
     "output_type": "stream",
     "text": [
      "2023-10-09 07:08:57.671396: I metal_plugin/src/device/metal_device.cc:1154] Metal device set to: Apple M1 Pro\n",
      "2023-10-09 07:08:57.671439: I metal_plugin/src/device/metal_device.cc:296] systemMemory: 16.00 GB\n",
      "2023-10-09 07:08:57.671452: I metal_plugin/src/device/metal_device.cc:313] maxCacheSize: 5.33 GB\n",
      "2023-10-09 07:08:57.671921: I tensorflow/core/common_runtime/pluggable_device/pluggable_device_factory.cc:303] Could not identify NUMA node of platform GPU ID 0, defaulting to 0. Your kernel may not have been built with NUMA support.\n",
      "2023-10-09 07:08:57.672303: I tensorflow/core/common_runtime/pluggable_device/pluggable_device_factory.cc:269] Created TensorFlow device (/job:localhost/replica:0/task:0/device:GPU:0 with 0 MB memory) -> physical PluggableDevice (device: 0, name: METAL, pci bus id: <undefined>)\n"
     ]
    }
   ],
   "source": [
    "# variables\n",
    "num_classes = 10\n",
    "input_shape = (28, 28, 1)\n",
    "\n",
    "# build the model\n",
    "# a sequence of conv2D/MaxPool blocks plus a Dense layer as a classifier\n",
    "model = Sequential()\n",
    "\n",
    "# Input layer\n",
    "# input shape: a 28x28x1 tensor (width, height, channels)\n",
    "model.add(Input(shape=input_shape))\n",
    "\n",
    "# ConvNet Block 1\n",
    "# Conv2D layer with 32 filters and a 3x3 kernel\n",
    "# This Conv2D layer will generate 32 different representations using the training images\n",
    "# Also need to define the activation function used for this layer: ReLU\n",
    "# Relu will allow us to solve non-linear problems, like recognizing handwritten digits.\n",
    "model.add(Conv2D(32, kernel_size=(3, 3), activation=\"relu\"))\n",
    "# After our Conv2D layer, we have a max pooling operation.\n",
    "# The goal of this layer is to downsample the amount of information collected by the convolutional layer.\n",
    "# Want to throw away unimportant details and retain what truly matters.\n",
    "model.add(MaxPooling2D(pool_size=(2, 2)))\n",
    "\n",
    "# ConvNet Block 2\n",
    "model.add(Conv2D(64, kernel_size=(3, 3), activation=\"relu\"))\n",
    "model.add(MaxPooling2D(pool_size=(2, 2)))\n",
    "\n",
    "# Classifier\n",
    "# We are now going to flatten the output. We want everything in a continuous list of values.\n",
    "# That's what the Flatten layer does. It will give us a flat tensor.\n",
    "model.add(Flatten())\n",
    "# Add a dropout for regularization\n",
    "model.add(Dropout(0.5))\n",
    "# the output layer has a size of 10, one for each of our possible digit values, and a softmax activation.\n",
    "# The softmax ensures we get a probability distribution indicating the most likely digit in the image.\n",
    "model.add(Dense(units=num_classes, activation='softmax'))\n",
    "\n",
    "# show model summary\n",
    "model.summary()"
   ]
  },
  {
   "cell_type": "code",
   "execution_count": 9,
   "id": "f15e65bc-b25e-4390-a918-6ca09d48d084",
   "metadata": {},
   "outputs": [],
   "source": [
    "# compile the model\n",
    "# After creating our model, we compile it\n",
    "# Use Adam as the optimizer\n",
    "# The loss is categorical cross-entropy: this is a multi-class classification problem\n",
    "# Want to record the accuracy as the model trains\n",
    "model.compile(\n",
    "    optimizer='adam', \n",
    "    loss='categorical_crossentropy', \n",
    "    metrics=['accuracy']\n",
    ")"
   ]
  },
  {
   "cell_type": "code",
   "execution_count": 10,
   "id": "6be38eb3-1096-4dc4-b92b-33756a46a8f9",
   "metadata": {},
   "outputs": [],
   "source": [
    "# validation data\n",
    "x_val = x_test\n",
    "y_val_one_hot = y_test_one_hot"
   ]
  },
  {
   "cell_type": "code",
   "execution_count": 11,
   "id": "37fb22b7-f805-42e9-a415-f2610b71f820",
   "metadata": {},
   "outputs": [
    {
     "name": "stdout",
     "output_type": "stream",
     "text": [
      "(10000, 28, 28, 1)\n",
      "(10000, 10)\n"
     ]
    }
   ],
   "source": [
    "print(x_val.shape)\n",
    "print(y_val_one_hot.shape)"
   ]
  },
  {
   "cell_type": "code",
   "execution_count": 12,
   "id": "bfa8f7e9-6ada-4b2c-bb4f-5c32543265ae",
   "metadata": {},
   "outputs": [
    {
     "name": "stdout",
     "output_type": "stream",
     "text": [
      "Epoch 1/15\n"
     ]
    },
    {
     "name": "stderr",
     "output_type": "stream",
     "text": [
      "2023-10-09 07:10:22.420437: I tensorflow/core/grappler/optimizers/custom_graph_optimizer_registry.cc:114] Plugin optimizer for device_type GPU is enabled.\n"
     ]
    },
    {
     "name": "stdout",
     "output_type": "stream",
     "text": [
      "469/469 [==============================] - ETA: 0s - loss: 0.3167 - accuracy: 0.9056"
     ]
    },
    {
     "name": "stderr",
     "output_type": "stream",
     "text": [
      "2023-10-09 07:10:29.355362: I tensorflow/core/grappler/optimizers/custom_graph_optimizer_registry.cc:114] Plugin optimizer for device_type GPU is enabled.\n"
     ]
    },
    {
     "name": "stdout",
     "output_type": "stream",
     "text": [
      "469/469 [==============================] - 8s 15ms/step - loss: 0.3167 - accuracy: 0.9056 - val_loss: 0.0821 - val_accuracy: 0.9753\n",
      "Epoch 2/15\n",
      "469/469 [==============================] - 6s 14ms/step - loss: 0.1007 - accuracy: 0.9688 - val_loss: 0.0537 - val_accuracy: 0.9828\n",
      "Epoch 3/15\n",
      "469/469 [==============================] - 6s 14ms/step - loss: 0.0762 - accuracy: 0.9765 - val_loss: 0.0405 - val_accuracy: 0.9863\n",
      "Epoch 4/15\n",
      "469/469 [==============================] - 7s 14ms/step - loss: 0.0624 - accuracy: 0.9813 - val_loss: 0.0392 - val_accuracy: 0.9873\n",
      "Epoch 5/15\n",
      "469/469 [==============================] - 7s 15ms/step - loss: 0.0553 - accuracy: 0.9826 - val_loss: 0.0334 - val_accuracy: 0.9887\n",
      "Epoch 6/15\n",
      "469/469 [==============================] - 7s 15ms/step - loss: 0.0508 - accuracy: 0.9842 - val_loss: 0.0320 - val_accuracy: 0.9898\n",
      "Epoch 7/15\n",
      "469/469 [==============================] - 7s 15ms/step - loss: 0.0475 - accuracy: 0.9854 - val_loss: 0.0304 - val_accuracy: 0.9904\n",
      "Epoch 8/15\n",
      "469/469 [==============================] - 7s 14ms/step - loss: 0.0436 - accuracy: 0.9864 - val_loss: 0.0297 - val_accuracy: 0.9895\n",
      "Epoch 9/15\n",
      "469/469 [==============================] - 7s 15ms/step - loss: 0.0399 - accuracy: 0.9871 - val_loss: 0.0284 - val_accuracy: 0.9901\n",
      "Epoch 10/15\n",
      "469/469 [==============================] - 7s 15ms/step - loss: 0.0369 - accuracy: 0.9882 - val_loss: 0.0280 - val_accuracy: 0.9906\n",
      "Epoch 11/15\n",
      "469/469 [==============================] - 7s 14ms/step - loss: 0.0349 - accuracy: 0.9888 - val_loss: 0.0288 - val_accuracy: 0.9895\n",
      "Epoch 12/15\n",
      "469/469 [==============================] - 7s 14ms/step - loss: 0.0338 - accuracy: 0.9892 - val_loss: 0.0261 - val_accuracy: 0.9913\n",
      "Epoch 13/15\n",
      "469/469 [==============================] - 7s 15ms/step - loss: 0.0312 - accuracy: 0.9897 - val_loss: 0.0282 - val_accuracy: 0.9907\n",
      "Epoch 14/15\n",
      "469/469 [==============================] - 7s 14ms/step - loss: 0.0313 - accuracy: 0.9901 - val_loss: 0.0262 - val_accuracy: 0.9916\n",
      "Epoch 15/15\n",
      "469/469 [==============================] - 7s 14ms/step - loss: 0.0293 - accuracy: 0.9906 - val_loss: 0.0254 - val_accuracy: 0.9914\n"
     ]
    }
   ],
   "source": [
    "# train the model\n",
    "# fit the model. This starts training it.\n",
    "# Use batch size of 32 images\n",
    "# Run 10 total epochs\n",
    "# When fit() is done, we have a fully trained model!\n",
    "\n",
    "# hyper-parameters\n",
    "batch_size = 128\n",
    "epochs = 15\n",
    "# train the model\n",
    "history = model.fit(x_train, \n",
    "                    y_train_one_hot, \n",
    "                    epochs=epochs, \n",
    "                    batch_size=batch_size, \n",
    "                    validation_data=(x_val, y_val_one_hot))"
   ]
  },
  {
   "cell_type": "code",
   "execution_count": 13,
   "id": "683e7ff1-4e70-42db-a89b-3b97805f519f",
   "metadata": {},
   "outputs": [],
   "source": [
    "def plot_loss(history_dict):\n",
    "    loss_values = history_dict['loss']\n",
    "    val_loss_values = history_dict['val_loss']\n",
    "    epochs = range(1, len(loss_values) + 1)\n",
    "    print(epochs)\n",
    "\n",
    "    # Visualize the loss\n",
    "    plt.plot(epochs, loss_values, 'bo', label='Training loss')\n",
    "    plt.plot(epochs, val_loss_values, 'b', label='Validation loss')\n",
    "    plt.title('Training and validation loss')\n",
    "    plt.xlabel('Epochs')\n",
    "    plt.ylabel('Loss')\n",
    "    plt.legend()\n",
    "    plt.show()\n",
    "\n",
    "def plot_accuracy(history_dict):\n",
    "    acc_values = history_dict['accuracy']\n",
    "    val_acc_values = history_dict['val_accuracy']\n",
    "    epochs = range(1, len(acc_values) + 1)\n",
    "    print(epochs)\n",
    "\n",
    "    plt.plot(epochs, acc_values, 'bo', label='Training acc')\n",
    "    plt.plot(epochs, val_acc_values, 'b', label='Validation acc')\n",
    "    plt.title('Training and validation accuracy')\n",
    "    plt.xlabel('Epochs')\n",
    "    plt.ylabel('Loss')\n",
    "    plt.legend()\n",
    "    plt.show()"
   ]
  },
  {
   "cell_type": "code",
   "execution_count": 14,
   "id": "96f56789-e770-4913-9a08-f7dd36be56b7",
   "metadata": {},
   "outputs": [
    {
     "name": "stdout",
     "output_type": "stream",
     "text": [
      "range(1, 16)\n"
     ]
    },
    {
     "data": {
      "image/png": "[encoded data removed]",
      "text/plain": [
       "<Figure size 640x480 with 1 Axes>"
      ]
     },
     "metadata": {},
     "output_type": "display_data"
    },
    {
     "name": "stdout",
     "output_type": "stream",
     "text": [
      "range(1, 16)\n"
     ]
    },
    {
     "data": {
      "image/png": "[encoded data removed]",
      "text/plain": [
       "<Figure size 640x480 with 1 Axes>"
      ]
     },
     "metadata": {},
     "output_type": "display_data"
    }
   ],
   "source": [
    "history_dict = history.history\n",
    "plot_loss(history_dict)\n",
    "plot_accuracy(history_dict)"
   ]
  },
  {
   "cell_type": "code",
   "execution_count": 16,
   "id": "b93cca84-6c36-4f30-a2dc-012577d9a1a9",
   "metadata": {},
   "outputs": [
    {
     "name": "stdout",
     "output_type": "stream",
     "text": [
      "313/313 [==============================] - 2s 7ms/step - loss: 0.0254 - accuracy: 0.9914\n",
      "[0.025436487048864365, 0.9914000630378723]\n"
     ]
    }
   ],
   "source": [
    "# evaluate model\n",
    "score = model.evaluate(x_test, y_test_one_hot, verbose=1)\n",
    "print(score)"
   ]
  },
  {
   "cell_type": "code",
   "execution_count": 23,
   "id": "ef3d471f-fb1a-47bf-ad24-b8181dc2e86d",
   "metadata": {},
   "outputs": [
    {
     "name": "stdout",
     "output_type": "stream",
     "text": [
      "[0 6 9 0 1 5 9 7 3 4]\n",
      "x.shape: (10, 28, 28, 1)\n",
      "1/1 [==============================] - 0s 16ms/step\n",
      "y_probs.shape: (10, 10)\n",
      "y_probs: [[0.09800341 0.19301076 0.11977345 0.07725393 0.06546484 0.10591485\n",
      "  0.07357427 0.12437376 0.0628525  0.07977826]\n",
      " [0.09780171 0.1928477  0.11967798 0.07740808 0.06557681 0.10587592\n",
      "  0.0736229  0.12457863 0.06279429 0.07981604]\n",
      " [0.09759208 0.19230346 0.11944837 0.07749372 0.06571387 0.10620838\n",
      "  0.07344352 0.12500402 0.0627899  0.08000267]\n",
      " [0.09755271 0.19269767 0.11974796 0.07733974 0.06554241 0.1058978\n",
      "  0.07342996 0.12512025 0.06280338 0.07986818]\n",
      " [0.09771497 0.19240806 0.11933676 0.07749914 0.06586873 0.10597342\n",
      "  0.07371015 0.12443492 0.06286238 0.08019144]\n",
      " [0.09735541 0.19346704 0.11976179 0.07728071 0.06549373 0.10620782\n",
      "  0.07335638 0.12447246 0.06260399 0.08000075]\n",
      " [0.09772581 0.1928553  0.11944453 0.07739841 0.06566167 0.1059171\n",
      "  0.07348158 0.12483522 0.06279822 0.07988218]\n",
      " [0.09799435 0.19270413 0.11951809 0.0772244  0.06534854 0.10593025\n",
      "  0.07368239 0.12481041 0.06269719 0.08009028]\n",
      " [0.09720641 0.19276205 0.11985374 0.07723714 0.06575965 0.10601754\n",
      "  0.07337835 0.12513718 0.06265637 0.0799915 ]\n",
      " [0.09752694 0.19226708 0.11945125 0.07743753 0.06594472 0.10598752\n",
      "  0.07349679 0.12509009 0.0629041  0.07989392]]\n",
      "Prediction: [1 1 1 1 1 1 1 1 1 1]\n"
     ]
    }
   ],
   "source": [
    "# prediction workflow\n",
    "x = x_test[10:20]\n",
    "y = y_test[10:20]\n",
    "\n",
    "print(y)\n",
    "\n",
    "# Need to reshape and normalize the image as we did before with the entire train set\n",
    "# pre-process image / build a batch of one image to predict\n",
    "x = x.astype('float32') / 255.0\n",
    "x = x.reshape((x.shape[0], 28, 28, 1))\n",
    "print('x.shape:', x.shape)\n",
    "\n",
    "# predict\n",
    "y_probs = model.predict(x)\n",
    "# print out probs of the batch\n",
    "print('y_probs.shape:', y_probs.shape)\n",
    "print('y_probs:', y_probs)\n",
    "\n",
    "# predict the value of the image.\n",
    "\n",
    "# The result is a one-hot-encoded vector.\n",
    "# Nedd to take the argmax value (the position with the highest probability) to get the result.\n",
    "# get index/class of max prob\n",
    "y_pred = np.argmax(y_probs, axis=1)\n",
    "print(\"Prediction:\", y_pred)"
   ]
  },
  {
   "cell_type": "code",
   "execution_count": null,
   "id": "07efed2e-0a34-4ef5-ae26-3793b30f9ba2",
   "metadata": {},
   "outputs": [],
   "source": [
    "# import\n",
    "from tensorflow.keras.datasets import mnist\n",
    "\n",
    "from tensorflow.keras.models import Sequential\n",
    "from tensorflow.keras.layers import Input, Flatten, Conv2D, Dense, MaxPooling2D, Dropout\n",
    "\n",
    "from tensorflow.keras.utils import to_categorical\n",
    "\n",
    "# load dataset\n",
    "# load the MNIST dataset, containing 70,000 28x28 images showing handwritten digits.\n",
    "(x_train, y_train), (x_test, y_test) = mnist.load_data()\n",
    "\n",
    "# preprocess dataset\n",
    "# training data\n",
    "x_train = x_train.astype('float32') / 255.0\n",
    "x_train = x_train.reshape((x_train.shape[0], 28, 28, 1))\n",
    "y_train_one_hot = to_categorical(y_train)\n",
    "# test data\n",
    "x_test = x_test.astype('float32') / 255.0\n",
    "x_test = x_test.reshape((x_test.shape[0], 28, 28, 1))\n",
    "y_test_one_hot = to_categorical(y_test)\n",
    "\n",
    "# variables\n",
    "num_classes = 10\n",
    "input_shape = (28, 28, 1)\n",
    "\n",
    "# build the model\n",
    "# a sequence of conv2D/MaxPool blocks plus a Dense layer as a classifier\n",
    "model = Sequential()\n",
    "# Input layer\n",
    "model.add(Input(shape=input_shape))\n",
    "# ConvNet Block 1\n",
    "model.add(Conv2D(32, kernel_size=(3, 3), activation=\"relu\"))\n",
    "model.add(MaxPooling2D(pool_size=(2, 2)))\n",
    "# ConvNet Block 2\n",
    "model.add(Conv2D(64, kernel_size=(3, 3), activation=\"relu\"))\n",
    "model.add(MaxPooling2D(pool_size=(2, 2)))\n",
    "# Classifier\n",
    "model.add(Flatten())\n",
    "model.add(Dropout(0.5))\n",
    "model.add(Dense(units=num_classes, activation='softmax'))\n",
    "# show model summary\n",
    "model.summary()\n",
    "\n",
    "# compile the model\n",
    "model.compile(\n",
    "    optimizer='adam', \n",
    "    loss='categorical_crossentropy', \n",
    "    metrics=['accuracy']\n",
    ")\n",
    "\n",
    "# train the model# hyper-parameters\n",
    "batch_size = 128\n",
    "epochs = 15\n",
    "# train the model\n",
    "history = model.fit(x_train, \n",
    "                    y_train_one_hot, \n",
    "                    epochs=epochs, \n",
    "                    batch_size=batch_size, \n",
    "                    validation_data=(x_test, y_test_one_hot))\n",
    "\n",
    "\n",
    "# evaluate model\n",
    "score = model.evaluate(x_test, y_test_one_hot, verbose=1)\n",
    "print(score)"
   ]
  }
 ],
 "metadata": {
  "kernelspec": {
   "display_name": "Python 3 (ipykernel)",
   "language": "python",
   "name": "python3"
  },
  "language_info": {
   "codemirror_mode": {
    "name": "ipython",
    "version": 3
   },
   "file_extension": ".py",
   "mimetype": "text/x-python",
   "name": "python",
   "nbconvert_exporter": "python",
   "pygments_lexer": "ipython3",
   "version": "3.9.6"
  }
 },
 "nbformat": 4,
 "nbformat_minor": 5
}
