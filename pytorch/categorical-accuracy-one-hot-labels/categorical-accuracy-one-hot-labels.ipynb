{
 "cells": [
  {
   "cell_type": "code",
   "execution_count": 1,
   "metadata": {},
   "outputs": [],
   "source": [
    "from tensorflow import keras\n",
    "import pandas as pd\n",
    "import numpy as np\n",
    "import torch"
   ]
  },
  {
   "cell_type": "code",
   "execution_count": 2,
   "metadata": {},
   "outputs": [
    {
     "data": {
      "text/html": [
       "<div>\n",
       "<style scoped>\n",
       "    .dataframe tbody tr th:only-of-type {\n",
       "        vertical-align: middle;\n",
       "    }\n",
       "\n",
       "    .dataframe tbody tr th {\n",
       "        vertical-align: top;\n",
       "    }\n",
       "\n",
       "    .dataframe thead th {\n",
       "        text-align: right;\n",
       "    }\n",
       "</style>\n",
       "<table border=\"1\" class=\"dataframe\">\n",
       "  <thead>\n",
       "    <tr style=\"text-align: right;\">\n",
       "      <th></th>\n",
       "      <th>'Imagen'</th>\n",
       "      <th>'Sex'</th>\n",
       "      <th>'Description'</th>\n",
       "    </tr>\n",
       "  </thead>\n",
       "  <tbody>\n",
       "    <tr>\n",
       "      <th>0</th>\n",
       "      <td>'img1.png'</td>\n",
       "      <td>1</td>\n",
       "      <td>'Male'</td>\n",
       "    </tr>\n",
       "    <tr>\n",
       "      <th>1</th>\n",
       "      <td>'img2.png'</td>\n",
       "      <td>0</td>\n",
       "      <td>'Female'</td>\n",
       "    </tr>\n",
       "    <tr>\n",
       "      <th>2</th>\n",
       "      <td>'img3.png'</td>\n",
       "      <td>1</td>\n",
       "      <td>'Male'</td>\n",
       "    </tr>\n",
       "    <tr>\n",
       "      <th>3</th>\n",
       "      <td>'img4.png'</td>\n",
       "      <td>0</td>\n",
       "      <td>'Female'</td>\n",
       "    </tr>\n",
       "    <tr>\n",
       "      <th>4</th>\n",
       "      <td>'img5.png'</td>\n",
       "      <td>0</td>\n",
       "      <td>'Female'</td>\n",
       "    </tr>\n",
       "    <tr>\n",
       "      <th>5</th>\n",
       "      <td>'img6.png'</td>\n",
       "      <td>1</td>\n",
       "      <td>'Male'</td>\n",
       "    </tr>\n",
       "    <tr>\n",
       "      <th>6</th>\n",
       "      <td>'img7.png'</td>\n",
       "      <td>0</td>\n",
       "      <td>'Female'</td>\n",
       "    </tr>\n",
       "    <tr>\n",
       "      <th>7</th>\n",
       "      <td>'img8.png'</td>\n",
       "      <td>1</td>\n",
       "      <td>'Male'</td>\n",
       "    </tr>\n",
       "  </tbody>\n",
       "</table>\n",
       "</div>"
      ],
      "text/plain": [
       "     'Imagen'   'Sex'  'Description'\n",
       "0  'img1.png'       1         'Male'\n",
       "1  'img2.png'       0       'Female'\n",
       "2  'img3.png'       1         'Male'\n",
       "3  'img4.png'       0       'Female'\n",
       "4  'img5.png'       0       'Female'\n",
       "5  'img6.png'       1         'Male'\n",
       "6  'img7.png'       0       'Female'\n",
       "7  'img8.png'       1         'Male'"
      ]
     },
     "execution_count": 2,
     "metadata": {},
     "output_type": "execute_result"
    }
   ],
   "source": [
    "# Training dataset\n",
    "df = pd.read_csv('train.csv')\n",
    "df.head(8)"
   ]
  },
  {
   "cell_type": "code",
   "execution_count": 3,
   "metadata": {},
   "outputs": [
    {
     "name": "stdout",
     "output_type": "stream",
     "text": [
      "[1. 0. 1. 0. 0. 1. 0. 1.]\n"
     ]
    }
   ],
   "source": [
    "# Read Sex Column\n",
    "y_true = np.genfromtxt('train.csv', delimiter=',', \n",
    "                       skip_header=1, usecols = (1))\n",
    "print(y_true)"
   ]
  },
  {
   "cell_type": "code",
   "execution_count": 4,
   "metadata": {},
   "outputs": [
    {
     "name": "stdout",
     "output_type": "stream",
     "text": [
      "[[0. 1.]\n",
      " [1. 0.]\n",
      " [0. 1.]\n",
      " [1. 0.]\n",
      " [1. 0.]\n",
      " [0. 1.]\n",
      " [1. 0.]\n",
      " [0. 1.]]\n"
     ]
    }
   ],
   "source": [
    "# Keran One-Hot\n",
    "num_classes = 2 # 2 classes Male and Female\n",
    "keras_y_true = keras.utils.to_categorical(y_true, num_classes=num_classes)\n",
    "print(keras_y_true)"
   ]
  },
  {
   "cell_type": "code",
   "execution_count": 5,
   "metadata": {},
   "outputs": [
    {
     "name": "stdout",
     "output_type": "stream",
     "text": [
      "tensor([[0, 1],\n",
      "        [1, 0],\n",
      "        [0, 1],\n",
      "        [1, 0],\n",
      "        [1, 0],\n",
      "        [0, 1],\n",
      "        [1, 0],\n",
      "        [0, 1]])\n"
     ]
    }
   ],
   "source": [
    "# Pytorch One-Hot\n",
    "num_classes = 2 # 2 classes Male and Female\n",
    "pytorch_y_true = torch.tensor( y_true, dtype = torch.int64) # numpy array to tensor\n",
    "pytorch_y_true = torch.nn.functional.one_hot(pytorch_y_true, num_classes=num_classes) # one-hot funtion\n",
    "print(pytorch_y_true)"
   ]
  },
  {
   "cell_type": "code",
   "execution_count": 6,
   "metadata": {},
   "outputs": [],
   "source": [
    "# Ground Truth (expected prediction)\n",
    "y_true = [[0, 1], # Female\n",
    "          [1, 0], # Male\n",
    "          [0, 1], # Female\n",
    "          [1, 0], # Male\n",
    "          [1, 0], # Male\n",
    "          [0, 1], # Female\n",
    "          [1, 0], # Male\n",
    "          [0, 1]] # Female"
   ]
  },
  {
   "cell_type": "code",
   "execution_count": 7,
   "metadata": {},
   "outputs": [],
   "source": [
    "y_pred = [[-0.0181,  0.1989], # Female  (ok)    0.1989 higher than -0.0181\n",
    "          [ 0.5594, -0.1696], # Male    (ok)\n",
    "          [ 1.4101,  1.0020], # Male    (wrong)\n",
    "          [-0.1596, -0.4885], # Male    (ok)    -0.1596 higher than -0.4885\n",
    "          [-1.2368,  0.1567], # Female  (wrong)\n",
    "          [-0.2297, -0.5287], # Male    (wrong)\n",
    "          [ 1.4883, -0.6566], # Male    (ok)\n",
    "          [ 0.0336,  0.2778]] # Female  (ok)"
   ]
  },
  {
   "cell_type": "code",
   "execution_count": 8,
   "metadata": {},
   "outputs": [
    {
     "data": {
      "text/plain": [
       "0.625"
      ]
     },
     "execution_count": 8,
     "metadata": {},
     "output_type": "execute_result"
    }
   ],
   "source": [
    "# Therefore we missed (wrong prediction) 3 out of 8\n",
    "# 5/8 = 0.625 (this is the expected categorical accuracy output)\n",
    "total = len(y_true)\n",
    "missed = 3\n",
    "(total-missed)/total"
   ]
  },
  {
   "cell_type": "code",
   "execution_count": 9,
   "metadata": {},
   "outputs": [
    {
     "name": "stdout",
     "output_type": "stream",
     "text": [
      "0.625\n"
     ]
    }
   ],
   "source": [
    "# Keras Categorical Accuracy\n",
    "cat_acc = keras.metrics.CategoricalAccuracy()\n",
    "cat_acc.update_state(y_pred, y_true)\n",
    "print(cat_acc.result().numpy())\n"
   ]
  },
  {
   "cell_type": "code",
   "execution_count": 10,
   "metadata": {},
   "outputs": [],
   "source": [
    "# Pytorch Categorical Accuracy\n",
    "def pytorch_cat_acc(y_pred, y_true):\n",
    "  aa, preds = torch.max(y_pred, dim=1)\n",
    "  correct = (preds == torch.argmax(y_true, dim=1)).float()\n",
    "  accuracy = correct.sum() / len(correct)\n",
    "  return accuracy"
   ]
  },
  {
   "cell_type": "code",
   "execution_count": 11,
   "metadata": {},
   "outputs": [
    {
     "data": {
      "text/plain": [
       "0.625"
      ]
     },
     "execution_count": 11,
     "metadata": {},
     "output_type": "execute_result"
    }
   ],
   "source": [
    "pytorch_cat_acc(\n",
    "  torch.tensor(y_pred, dtype=torch.float32), \n",
    "  torch.tensor(y_true, dtype=torch.float32)).item()"
   ]
  }
 ],
 "metadata": {
  "kernelspec": {
   "display_name": "py3.10",
   "language": "python",
   "name": "python3"
  },
  "language_info": {
   "codemirror_mode": {
    "name": "ipython",
    "version": 3
   },
   "file_extension": ".py",
   "mimetype": "text/x-python",
   "name": "python",
   "nbconvert_exporter": "python",
   "pygments_lexer": "ipython3",
   "version": "3.10.12"
  }
 },
 "nbformat": 4,
 "nbformat_minor": 2
}
